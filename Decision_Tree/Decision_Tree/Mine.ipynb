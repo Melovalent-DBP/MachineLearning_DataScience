{
 "cells": [
  {
   "cell_type": "code",
   "execution_count": 5,
   "metadata": {},
   "outputs": [
    {
     "name": "stdout",
     "output_type": "stream",
     "text": [
      "dot_data means that the tree is saved in the form of dot file\n",
      "Outfile None means that the tree is not saved in the file\n",
      "pydotplus.graph_from_dot_data is used to convert the dot file to graph\n",
      "[[37  0  0]\n",
      " [ 0 34  0]\n",
      " [ 0  0 41]]\n",
      "\n",
      "\n",
      "[[13  0  0]\n",
      " [ 0 15  1]\n",
      " [ 0  0  9]]\n"
     ]
    }
   ],
   "source": [
    "from sklearn import datasets\n",
    "from sklearn.tree import DecisionTreeClassifier\n",
    "from sklearn.model_selection import train_test_split\n",
    "from sklearn.tree import export_graphviz \n",
    "\n",
    "#DBP_HIGHLIGHTES it is used to export the tree in the form of dot file\n",
    "\n",
    "iris = datasets.load_iris()\n",
    "x_train, x_test, y_train, y_test = train_test_split(iris.data, iris.target, random_state=1)\n",
    "\n",
    "\n",
    "clf = DecisionTreeClassifier()\n",
    "clf.fit(x_train,y_train)\n",
    "\n",
    "print(\"dot_data means that the tree is saved in the form of dot file\")\n",
    "print(\"Outfile None means that the tree is not saved in the file\")\n",
    "dot_data = export_graphviz(clf, out_file=None ,\n",
    "                           feature_names=iris.feature_names ,\n",
    "                           class_names=iris.target_names)\n",
    "\n",
    "print(\"pydotplus.graph_from_dot_data is used to convert the dot file to graph\")\n",
    "import pydotplus\n",
    "graph = pydotplus.graph_from_dot_data(dot_data)\n",
    "graph.write_pdf(\"iris.pdf\")\n",
    "\n",
    "y_train_pred = clf.predict(x_train)\n",
    "y_test_pred =  clf.predict(x_test)\n",
    "\n",
    "\n",
    "from sklearn.metrics import confusion_matrix\n",
    "\n",
    "print(confusion_matrix(y_train , y_train_pred))\n",
    "print(\"\\n\") \n",
    "print(confusion_matrix(y_test , y_test_pred))\n",
    "\n"
   ]
  }
 ],
 "metadata": {
  "kernelspec": {
   "display_name": "Python 3",
   "language": "python",
   "name": "python3"
  },
  "language_info": {
   "codemirror_mode": {
    "name": "ipython",
    "version": 3
   },
   "file_extension": ".py",
   "mimetype": "text/x-python",
   "name": "python",
   "nbconvert_exporter": "python",
   "pygments_lexer": "ipython3",
   "version": "3.12.4"
  }
 },
 "nbformat": 4,
 "nbformat_minor": 2
}
