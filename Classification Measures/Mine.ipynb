{
 "cells": [
  {
   "cell_type": "code",
   "execution_count": 2,
   "metadata": {},
   "outputs": [
    {
     "name": "stdout",
     "output_type": "stream",
     "text": [
      "Using Confusion Matrix\n",
      "[38 0 0] means 38 samples of class 0 are correctly classified\n",
      "[0 37 1] means 37 samples of class 1 are correctly classified and 1 sample is misclassified\n",
      "[1 0 37] means 37 samples of class 2 are correctly classified and 1 sample is misclassified\n",
      "[[35  0  0]\n",
      " [ 0 34  3]\n",
      " [ 0  0 40]]\n",
      "When we fix the random state of train_test_split we get the same confusion matrix\n",
      "[[13  0  0]\n",
      " [ 0 15  1]\n",
      " [ 0  0  9]]\n",
      "              precision    recall  f1-score   support\n",
      "\n",
      "           0       1.00      1.00      1.00        15\n",
      "           1       1.00      1.00      1.00        13\n",
      "           2       1.00      1.00      1.00        10\n",
      "\n",
      "    accuracy                           1.00        38\n",
      "   macro avg       1.00      1.00      1.00        38\n",
      "weighted avg       1.00      1.00      1.00        38\n",
      "\n"
     ]
    },
    {
     "name": "stderr",
     "output_type": "stream",
     "text": [
      "c:\\Python312\\Lib\\site-packages\\sklearn\\linear_model\\_logistic.py:469: ConvergenceWarning: lbfgs failed to converge (status=1):\n",
      "STOP: TOTAL NO. of ITERATIONS REACHED LIMIT.\n",
      "\n",
      "Increase the number of iterations (max_iter) or scale the data as shown in:\n",
      "    https://scikit-learn.org/stable/modules/preprocessing.html\n",
      "Please also refer to the documentation for alternative solver options:\n",
      "    https://scikit-learn.org/stable/modules/linear_model.html#logistic-regression\n",
      "  n_iter_i = _check_optimize_result(\n"
     ]
    }
   ],
   "source": [
    "from sklearn import datasets\n",
    "from sklearn.linear_model import LogisticRegression\n",
    "from sklearn.model_selection import train_test_split\n",
    "\n",
    "\n",
    "iris = datasets.load_iris()\n",
    "\n",
    "x_train , x_test , y_train , y_test = train_test_split(iris.data , iris.target)\n",
    "\n",
    "\n",
    "clf = LogisticRegression()\n",
    "clf.fit(x_train , y_train)\n",
    "\n",
    "\n",
    "y_train_pred = clf.predict(x_train)\n",
    "\n",
    "y_test_pred = clf.predict(x_test)\n",
    "\n",
    "\n",
    "print(\"Using Confusion Matrix\")\n",
    "\n",
    "from sklearn.metrics import confusion_matrix\n",
    "\n",
    "print(\"[38 0 0] means 38 samples of class 0 are correctly classified\")\n",
    "print(\"[0 37 1] means 37 samples of class 1 are correctly classified and 1 sample is misclassified\")\n",
    "print(\"[1 0 37] means 37 samples of class 2 are correctly classified and 1 sample is misclassified\")\n",
    "print(confusion_matrix(y_train , y_train_pred))\n",
    "\n",
    "\n",
    "print(\"When we fix the random state of train_test_split we get the same confusion matrix\")\n",
    "x_train_fixed , x_test_fixed , y_train_fixed , y_test_fixed = train_test_split(iris.data , iris.target , random_state=1)\n",
    "clf1 = LogisticRegression()\n",
    "clf1.fit(x_train_fixed , y_train_fixed)\n",
    "\n",
    "\n",
    "y_train_pred_fixed = clf1.predict(x_train_fixed)\n",
    "\n",
    "y_test_pred_fixed = clf1.predict(x_test_fixed)\n",
    "\n",
    "\n",
    "print(confusion_matrix(y_test_fixed , y_test_pred_fixed))\n",
    "\n",
    "\n",
    "from sklearn.metrics import classification_report\n",
    "\n",
    "print(\"f1_mean: Harmonic Mean of Precision and Recall\")\n",
    "print(classification_report(y_test,y_test_pred))\n"
   ]
  },
  {
   "cell_type": "code",
   "execution_count": 19,
   "metadata": {},
   "outputs": [
    {
     "name": "stdout",
     "output_type": "stream",
     "text": [
      "When we fix the random state of train_test_split we get the same confusion matrix\n",
      "[[37  0  0]\n",
      " [ 0 32  2]\n",
      " [ 0  0 41]]\n"
     ]
    }
   ],
   "source": []
  }
 ],
 "metadata": {
  "kernelspec": {
   "display_name": "Python 3",
   "language": "python",
   "name": "python3"
  },
  "language_info": {
   "codemirror_mode": {
    "name": "ipython",
    "version": 3
   },
   "file_extension": ".py",
   "mimetype": "text/x-python",
   "name": "python",
   "nbconvert_exporter": "python",
   "pygments_lexer": "ipython3",
   "version": "3.12.4"
  }
 },
 "nbformat": 4,
 "nbformat_minor": 2
}
