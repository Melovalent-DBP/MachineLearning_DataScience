{
 "cells": [
  {
   "cell_type": "code",
   "execution_count": 1,
   "metadata": {},
   "outputs": [
    {
     "name": "stdout",
     "output_type": "stream",
     "text": [
      "Year\n",
      "Month\n",
      "Day\n",
      "Country\n",
      "State\n",
      "Region\n",
      "City\n",
      "Latitude\n",
      "Longitude\n",
      "AttackType\n",
      "Killed\n",
      "Wounded\n",
      "Target\n",
      "Summary\n",
      "Group\n",
      "Target_type\n",
      "Weapon_type\n"
     ]
    }
   ],
   "source": [
    "import numpy as np\n",
    "import pandas as pd\n",
    "\n",
    "data = pd.read_csv(\"terrorismData.csv\")\n",
    "ter_dat = data.copy()\n",
    "\n",
    "ter_dat_10\n",
    "    \n",
    "\n"
   ]
  }
 ],
 "metadata": {
  "kernelspec": {
   "display_name": "Python 3",
   "language": "python",
   "name": "python3"
  },
  "language_info": {
   "codemirror_mode": {
    "name": "ipython",
    "version": 3
   },
   "file_extension": ".py",
   "mimetype": "text/x-python",
   "name": "python",
   "nbconvert_exporter": "python",
   "pygments_lexer": "ipython3",
   "version": "3.12.4"
  }
 },
 "nbformat": 4,
 "nbformat_minor": 2
}
